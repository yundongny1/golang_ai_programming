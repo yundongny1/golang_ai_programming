{
 "cells": [
  {
   "cell_type": "code",
   "execution_count": 18,
   "metadata": {},
   "outputs": [],
   "source": [
    "# The Anscombe Quartet (Python)\n",
    "\n",
    "# demonstration data from\n",
    "# Anscombe, F. J. 1973, February. Graphs in statistical analysis. \n",
    "#  The American Statistician 27: 17–21.\n",
    "\n",
    "\n",
    "# prepare for Python version 3x features and functions\n",
    "from __future__ import division, print_function\n",
    "\n",
    "# import packages for Anscombe Quartet demonstration\n",
    "import pandas as pd  # data frame operations\n",
    "import numpy as np  # arrays and math functions\n",
    "import statsmodels.api as sm  # statistical models (including regression)\n",
    "import matplotlib.pyplot as plt  # 2D plotting\n",
    "import time\n",
    "start_time = time.time()\n",
    "# define the anscombe data frame using dictionary of equal-length lists\n",
    "anscombe = pd.DataFrame({'x1' : [10, 8, 13, 9, 11, 14, 6, 4, 12, 7, 5],\n",
    "    'x2' : [10, 8, 13, 9, 11, 14, 6, 4, 12, 7, 5],\n",
    "    'x3' : [10, 8, 13, 9, 11, 14, 6, 4, 12, 7, 5],\n",
    "    'x4' : [8, 8, 8, 8, 8, 8, 8, 19, 8, 8, 8],\n",
    "    'y1' : [8.04, 6.95,  7.58, 8.81, 8.33, 9.96, 7.24, 4.26,10.84, 4.82, 5.68],\n",
    "    'y2' : [9.14, 8.14,  8.74, 8.77, 9.26, 8.1, 6.13, 3.1,  9.13, 7.26, 4.74],\n",
    "    'y3' : [7.46, 6.77, 12.74, 7.11, 7.81, 8.84, 6.08, 5.39, 8.15, 6.42, 5.73],\n",
    "    'y4' : [6.58, 5.76, 7.71, 8.84, 8.47, 7.04, 5.25, 12.5, 5.56, 7.91, 6.89]})\n"
   ]
  },
  {
   "cell_type": "code",
   "execution_count": 19,
   "metadata": {},
   "outputs": [
    {
     "name": "stdout",
     "output_type": "stream",
     "text": [
      "[ 8.001       7.00081818  9.50127273  7.50090909  8.50109091 10.00136364\n",
      "  6.00063636  5.00045455  9.00118182  6.50072727  5.50054545]\n"
     ]
    }
   ],
   "source": [
    "# fit linear regression models by ordinary least squares\n",
    "set_I_design_matrix = sm.add_constant(anscombe['x1'])\n",
    "set_I_model = sm.OLS(anscombe['y1'], set_I_design_matrix)\n",
    "print(set_I_model.fit().predict())"
   ]
  },
  {
   "cell_type": "code",
   "execution_count": 20,
   "metadata": {},
   "outputs": [
    {
     "name": "stdout",
     "output_type": "stream",
     "text": [
      "[ 8.00090909  7.00090909  9.50090909  7.50090909  8.50090909 10.00090909\n",
      "  6.00090909  5.00090909  9.00090909  6.50090909  5.50090909]\n"
     ]
    }
   ],
   "source": [
    "set_II_design_matrix = sm.add_constant(anscombe['x2'])\n",
    "set_II_model = sm.OLS(anscombe['y2'], set_II_design_matrix)\n",
    "print(set_II_model.fit().predict())"
   ]
  },
  {
   "cell_type": "code",
   "execution_count": 21,
   "metadata": {},
   "outputs": [
    {
     "name": "stdout",
     "output_type": "stream",
     "text": [
      "[7.99972727 7.00027273 9.49890909 7.5        8.49945455 9.99863636\n",
      " 6.00081818 5.00136364 8.99918182 6.50054545 5.50109091]\n"
     ]
    }
   ],
   "source": [
    "\n",
    "set_III_design_matrix = sm.add_constant(anscombe['x3'])\n",
    "set_III_model = sm.OLS(anscombe['y3'], set_III_design_matrix)\n",
    "print(set_III_model.fit().predict())"
   ]
  },
  {
   "cell_type": "code",
   "execution_count": 22,
   "metadata": {},
   "outputs": [
    {
     "name": "stdout",
     "output_type": "stream",
     "text": [
      "[ 7.001  7.001  7.001  7.001  7.001  7.001  7.001 12.5    7.001  7.001\n",
      "  7.001]\n"
     ]
    }
   ],
   "source": [
    "set_IV_design_matrix = sm.add_constant(anscombe['x4'])\n",
    "set_IV_model = sm.OLS(anscombe['y4'], set_IV_design_matrix)\n",
    "print(set_IV_model.fit().predict())"
   ]
  },
  {
   "cell_type": "code",
   "execution_count": 23,
   "metadata": {},
   "outputs": [
    {
     "name": "stdout",
     "output_type": "stream",
     "text": [
      "--- 0.0411226749420166 seconds ---\n"
     ]
    }
   ],
   "source": [
    "\n",
    "print(\"--- %s seconds ---\" % (time.time() - start_time))"
   ]
  }
 ],
 "metadata": {
  "kernelspec": {
   "display_name": "Python 3",
   "language": "python",
   "name": "python3"
  },
  "language_info": {
   "codemirror_mode": {
    "name": "ipython",
    "version": 3
   },
   "file_extension": ".py",
   "mimetype": "text/x-python",
   "name": "python",
   "nbconvert_exporter": "python",
   "pygments_lexer": "ipython3",
   "version": "3.11.5"
  }
 },
 "nbformat": 4,
 "nbformat_minor": 2
}
